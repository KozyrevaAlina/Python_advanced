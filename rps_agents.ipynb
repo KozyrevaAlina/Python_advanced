{
  "nbformat": 4,
  "nbformat_minor": 0,
  "metadata": {
    "colab": {
      "provenance": [],
      "collapsed_sections": [],
      "authorship_tag": "ABX9TyO9eX2let1/Kx0dGBpgwTpo"
    },
    "kernelspec": {
      "name": "python3",
      "display_name": "Python 3"
    },
    "language_info": {
      "name": "python"
    }
  },
  "cells": [
    {
      "cell_type": "code",
      "execution_count": 1,
      "metadata": {
        "colab": {
          "base_uri": "https://localhost:8080/"
        },
        "id": "5jHQMXhOgXh6",
        "outputId": "5cef5b6b-d34e-4926-e190-7fb5c135335a"
      },
      "outputs": [
        {
          "output_type": "stream",
          "name": "stdout",
          "text": [
            "\u001b[K     |████████████████████████████████| 1.9 MB 5.2 MB/s \n",
            "\u001b[K     |████████████████████████████████| 62 kB 1.5 MB/s \n",
            "\u001b[?25h"
          ]
        }
      ],
      "source": [
        "!pip install -q -U kaggle_environments"
      ]
    },
    {
      "cell_type": "code",
      "source": [
        "import numpy as np\n",
        "import pandas as pd\n",
        "import random\n",
        "\n",
        "import matplotlib.pyplot as plt\n",
        "import seaborn as sns\n",
        "\n",
        "from kaggle_environments import make, evaluate"
      ],
      "metadata": {
        "id": "Et2VRrimgaw4"
      },
      "execution_count": 2,
      "outputs": []
    },
    {
      "cell_type": "markdown",
      "source": [
        "Агент всегда играет камень."
      ],
      "metadata": {
        "id": "d5kba2WEhctQ"
      }
    },
    {
      "cell_type": "code",
      "source": [
        "%%writefile rock_agent.py\n",
        "\n",
        "def rock_agent(observation, configuration):\n",
        "    return 0"
      ],
      "metadata": {
        "colab": {
          "base_uri": "https://localhost:8080/"
        },
        "id": "yES_MQBFgauB",
        "outputId": "54a57d58-f440-4483-d1df-4eb6990df0fb"
      },
      "execution_count": 3,
      "outputs": [
        {
          "output_type": "stream",
          "name": "stdout",
          "text": [
            "Writing rock_agent.py\n"
          ]
        }
      ]
    },
    {
      "cell_type": "markdown",
      "source": [
        "Агент всегда играет бумага."
      ],
      "metadata": {
        "id": "9bjPKLKPFhVz"
      }
    },
    {
      "cell_type": "code",
      "source": [
        "%%writefile paper_agent.py\n",
        "\n",
        "def paper_agent(observation, configuration):\n",
        "    return 1\n"
      ],
      "metadata": {
        "colab": {
          "base_uri": "https://localhost:8080/"
        },
        "id": "9zlHnYXmgarr",
        "outputId": "62f83ef6-c71f-445c-d242-a428b280de9a"
      },
      "execution_count": 4,
      "outputs": [
        {
          "output_type": "stream",
          "name": "stdout",
          "text": [
            "Writing paper_agent.py\n"
          ]
        }
      ]
    },
    {
      "cell_type": "markdown",
      "source": [
        "Агент всегда играет ножницы."
      ],
      "metadata": {
        "id": "ZdVeznPKhqyH"
      }
    },
    {
      "cell_type": "code",
      "source": [
        "%%writefile scissors_agent.py\n",
        "\n",
        "def scissors_agent(observation, configuration):\n",
        "    return 2"
      ],
      "metadata": {
        "colab": {
          "base_uri": "https://localhost:8080/"
        },
        "id": "o1DsdTDEhptN",
        "outputId": "75a13b58-8524-41cd-ddf9-912e82ce4455"
      },
      "execution_count": 5,
      "outputs": [
        {
          "output_type": "stream",
          "name": "stdout",
          "text": [
            "Writing scissors_agent.py\n"
          ]
        }
      ]
    },
    {
      "cell_type": "markdown",
      "source": [
        "Агент повторяет прошлые действия оппонента. "
      ],
      "metadata": {
        "id": "BJ9PcavdhzCs"
      }
    },
    {
      "cell_type": "code",
      "source": [
        "%%writefile copy_agent.py\n",
        "\n",
        "import random\n",
        "def copy_agent(observation, configuration):\n",
        "    # Получает прошлое действие оппонента\n",
        "    if observation.step > 0:\n",
        "        return observation.lastOpponentAction\n",
        "    # Первый шаг оппонента - случайное значение\n",
        "    else:\n",
        "        return random.randrange(0, configuration.signs)"
      ],
      "metadata": {
        "colab": {
          "base_uri": "https://localhost:8080/"
        },
        "id": "ZqquOO8Qhpqu",
        "outputId": "0a2b0b31-4da4-4418-e915-e15f87a66ba6"
      },
      "execution_count": 6,
      "outputs": [
        {
          "output_type": "stream",
          "name": "stdout",
          "text": [
            "Writing copy_agent.py\n"
          ]
        }
      ]
    },
    {
      "cell_type": "markdown",
      "source": [
        "Агент возвращает действие, которое победит самое популярное из прошлых действий оппонента. "
      ],
      "metadata": {
        "id": "91MuCbDnh5R8"
      }
    },
    {
      "cell_type": "code",
      "source": [
        "%%writefile popular_agent.py\n",
        "\n",
        "# Прошлые действия оппоннета\n",
        "opponent_actions = []\n",
        "\n",
        "def popular_agent(observation, configuration):\n",
        "    global opponent_actions\n",
        "    \n",
        "    count = len(opponent_actions)\n",
        "    \n",
        "    # Первый шаг оппонента - случайное значение\n",
        "    if count == 0:\n",
        "        opponent_actions.append(random.randrange(0, configuration.signs)) \n",
        "    # Находим самое используемое действие опонента из прошлых\n",
        "    else:\n",
        "        opponent_actions.append(observation.lastOpponentAction)\n",
        "        action_count = [opponent_actions.count(0), opponent_actions.count(1), opponent_actions.count(2)]        \n",
        "        popular_opponent_action = action_count.index(max(action_count))\n",
        "\n",
        "        if popular_opponent_action == 0: \n",
        "            return 1\n",
        "        elif popular_opponent_action == 1:\n",
        "            return 2\n",
        "        else:\n",
        "            return 0"
      ],
      "metadata": {
        "colab": {
          "base_uri": "https://localhost:8080/"
        },
        "id": "T0Y2lDZyhpn8",
        "outputId": "773a2376-9966-4067-8fba-e08de7c33f5f"
      },
      "execution_count": 7,
      "outputs": [
        {
          "output_type": "stream",
          "name": "stdout",
          "text": [
            "Writing popular_agent.py\n"
          ]
        }
      ]
    },
    {
      "cell_type": "markdown",
      "source": [
        "Агент при победе в прошлой игре возвращает прошлое действие, при проигрыше или игре в ничью меняет действие на случайное, за исключением невыигрышного действия."
      ],
      "metadata": {
        "id": "LpVRxj1UiAs5"
      }
    },
    {
      "cell_type": "code",
      "source": [
        "%%writefile last_agent.py\n",
        "\n",
        "import random\n",
        "last_my_action = None\n",
        "\n",
        "def last_agent(observation, configuration):\n",
        "    global last_my_action\n",
        "\n",
        "    # Определение исхода игры\n",
        "    def get_result(last_my_action, last_opponent_action):\n",
        "        if last_my_action == last_opponent_action:\n",
        "            return 0\n",
        "        elif (last_my_action == 1 and last_opponent_action == 0) \\\n",
        "            or (last_my_action == 0 and last_opponent_action == 1) \\\n",
        "            or (last_my_action == 2 and last_opponent_action == 1):\n",
        "            return 1\n",
        "        else:\n",
        "            return -1    \n",
        "\n",
        "    if observation.step == 0:\n",
        "    # Первый шаг - камень\n",
        "        last_opponent_action = 0 \n",
        "        last_my_action = 0\n",
        "    else:\n",
        "        last_opponent_action = observation.lastOpponentAction\n",
        "    result = get_result(last_my_action, last_opponent_action)\n",
        "\n",
        "    if result != 1: \n",
        "        # Если в прошлой игре не было победы, меняем действие на случайное, за исключением невыигрышного действия\n",
        "        list_of_action = [action for action in [0, 1, 2] if action != last_my_action] \n",
        "        last_my_action = random.choice(list_of_action)       \n",
        "    return last_my_action\n",
        "    "
      ],
      "metadata": {
        "colab": {
          "base_uri": "https://localhost:8080/"
        },
        "id": "SJrvfqw_hplS",
        "outputId": "c56b87ad-3797-40cc-f711-a47db4621efe"
      },
      "execution_count": 23,
      "outputs": [
        {
          "output_type": "stream",
          "name": "stdout",
          "text": [
            "Overwriting last_agent.py\n"
          ]
        }
      ]
    },
    {
      "cell_type": "markdown",
      "source": [
        "Агент возвращает случайное значение. "
      ],
      "metadata": {
        "id": "kpFRM2eoiMjB"
      }
    },
    {
      "cell_type": "code",
      "source": [
        "%%writefile random_agent.py\n",
        "\n",
        "import random\n",
        "\n",
        "def random_agent(observation, configuration):\n",
        "    return random.randint(0, 2)"
      ],
      "metadata": {
        "colab": {
          "base_uri": "https://localhost:8080/"
        },
        "id": "vSMOYviIhpiV",
        "outputId": "52f4765b-ae4d-4237-cbc4-841516f8c1bc"
      },
      "execution_count": 9,
      "outputs": [
        {
          "output_type": "stream",
          "name": "stdout",
          "text": [
            "Writing random_agent.py\n"
          ]
        }
      ]
    },
    {
      "cell_type": "markdown",
      "source": [
        "Агент, который возвращает свои предыдущие шаги cо сдвигом."
      ],
      "metadata": {
        "id": "eaAzh3g9iRm8"
      }
    },
    {
      "cell_type": "code",
      "source": [
        "%%writefile my_previous_agent.py\n",
        "\n",
        "# Действие прошлых игр\n",
        "last_games = []\n",
        "\n",
        "def my_previous_agent(observation, configuration):\n",
        "    global last_games\n",
        "\n",
        "    if observation.step == 0:\n",
        "    # Первый шаг - камень\n",
        "        agent = 0\n",
        "        last_games.append(agent)\n",
        "    else:\n",
        "        agent = (last_games[-1] + 1) % 3 \n",
        "        last_games.append(agent)\n",
        "    return agent"
      ],
      "metadata": {
        "colab": {
          "base_uri": "https://localhost:8080/"
        },
        "id": "5C4OW9VbhpfQ",
        "outputId": "6c75fe2b-0be2-4bfa-9a2d-24f9d305d396"
      },
      "execution_count": 10,
      "outputs": [
        {
          "output_type": "stream",
          "name": "stdout",
          "text": [
            "Writing my_previous_agent.py\n"
          ]
        }
      ]
    },
    {
      "cell_type": "markdown",
      "source": [
        "Абонент, который возвращает предыдущие шаги оппонента cо сдвигом"
      ],
      "metadata": {
        "id": "CmVpIIApiXnX"
      }
    },
    {
      "cell_type": "code",
      "source": [
        "%%writefile opponent_previous_agent.py\n",
        "\n",
        "\n",
        "# Действие оппонента в прошлых играх\n",
        "last_games = []\n",
        "\n",
        "def opponent_previous_agent(observation, configuration):\n",
        "    global last_games\n",
        "\n",
        "    if observation.step == 0:\n",
        "    # Первый шаг оппонента - камень    \n",
        "        opponent_action = 0\n",
        "        last_games.append(opponent_action)\n",
        "    else:\n",
        "        last_games[-1] = observation.lastOpponentAction\n",
        "        opponent_action = (last_games[-1] + 1) % 3\n",
        "        last_games.append(opponent_action)\n",
        "    return opponent_action"
      ],
      "metadata": {
        "colab": {
          "base_uri": "https://localhost:8080/"
        },
        "id": "5M8SEU6GiXVG",
        "outputId": "b6c8d17c-8df1-43cf-cd39-ec0a51c2beb1"
      },
      "execution_count": 11,
      "outputs": [
        {
          "output_type": "stream",
          "name": "stdout",
          "text": [
            "Writing opponent_previous_agent.py\n"
          ]
        }
      ]
    },
    {
      "cell_type": "markdown",
      "source": [
        "Абонент возвращает камень, если шаг четный, случайное значение среди ножниц и бумаги - если шаг нечетный."
      ],
      "metadata": {
        "id": "W4rekMDeDocO"
      }
    },
    {
      "cell_type": "code",
      "source": [
        "%%writefile even_agent.py\n",
        "\n",
        "import random\n",
        "def even_agent(observation, configuration):  \n",
        "    if observation.step % 2 == 0:\n",
        "        return 0\n",
        "    else:\n",
        "        return random.choice([1, 2])"
      ],
      "metadata": {
        "colab": {
          "base_uri": "https://localhost:8080/"
        },
        "id": "F72AR3U_iXSg",
        "outputId": "7b59eb9b-3de7-41b2-8a10-4ecbcc53fd3d"
      },
      "execution_count": 12,
      "outputs": [
        {
          "output_type": "stream",
          "name": "stdout",
          "text": [
            "Writing even_agent.py\n"
          ]
        }
      ]
    },
    {
      "cell_type": "markdown",
      "source": [
        "Агент возвращает действие, которое победит самое популярное из прошлых действий оппонента, если вероятность выпадания самого популярного действия оппонета больше 20%. \n",
        "В противном случае агент возвращает самое популярное из прошлых действий оппонента."
      ],
      "metadata": {
        "id": "MmQG1O_qDu5-"
      }
    },
    {
      "cell_type": "code",
      "source": [
        "%%writefile probability_agent.py\n",
        "\n",
        "import random\n",
        "\n",
        "# Прошлые действия оппонента\n",
        "opponent_actions = []\n",
        "\n",
        "def probability_agent(observation, configuration):\n",
        "    global opponent_actions\n",
        "    \n",
        "    count = len(opponent_actions) # Количество прошлых действий \n",
        "    \n",
        "    # Первый шаг оппонента - случайное значение.\n",
        "    if count == 0:\n",
        "        opponent_actions.append(random.randrange(0, configuration.signs)) \n",
        "    # Находим самое используемое действие опонента из прошлых.\n",
        "    else:\n",
        "        opponent_actions.append(observation.lastOpponentAction)\n",
        "        action_count = [opponent_actions.count(0), opponent_actions.count(1), opponent_actions.count(2)]        \n",
        "        popular_opponent_action = action_count.index(max(action_count))\n",
        "        # Вероятность выпадания популярного действия. \n",
        "        probability = popular_opponent_action / count \n",
        "\n",
        "        if probability > 20:\n",
        "            if popular_opponent_action == 0: \n",
        "                return 1\n",
        "            elif popular_opponent_action == 1:\n",
        "                return 2\n",
        "            else:\n",
        "                return 0\n",
        "        else:\n",
        "            return popular_opponent_action"
      ],
      "metadata": {
        "colab": {
          "base_uri": "https://localhost:8080/"
        },
        "id": "sebciwSZiXPW",
        "outputId": "e87d7a08-e5fc-4aa9-b63c-6243f86999d8"
      },
      "execution_count": 13,
      "outputs": [
        {
          "output_type": "stream",
          "name": "stdout",
          "text": [
            "Writing probability_agent.py\n"
          ]
        }
      ]
    },
    {
      "cell_type": "markdown",
      "source": [
        "Агент возвращает следующее по отношению к действиям оппонента действие. Порядок действий задан следующим образом: камень, бумага, ножницы."
      ],
      "metadata": {
        "id": "bgHUl-VID5_E"
      }
    },
    {
      "cell_type": "code",
      "source": [
        "%%writefile ordered_agent.py\n",
        "\n",
        "import random\n",
        "\n",
        "def ordered_agent(observation, configuration):\n",
        "    if observation.step > 0:\n",
        "        if observation.lastOpponentAction == 0:\n",
        "            return 1\n",
        "        elif observation.lastOpponentAction == 1:\n",
        "            return 2\n",
        "        else:\n",
        "            return 0\n",
        "    else:\n",
        "        # Первый шаг - случайное действие\n",
        "        return random.randrange(0, configuration.signs)"
      ],
      "metadata": {
        "colab": {
          "base_uri": "https://localhost:8080/"
        },
        "id": "1Gt2Q-3ziXLv",
        "outputId": "c32aa77f-b15d-4f23-adf1-bc9624155b82"
      },
      "execution_count": 14,
      "outputs": [
        {
          "output_type": "stream",
          "name": "stdout",
          "text": [
            "Writing ordered_agent.py\n"
          ]
        }
      ]
    },
    {
      "cell_type": "markdown",
      "source": [
        "Агент при победе возвращает действие, которое не играло в прошлой игре, при проигрыше или игре в ничью - действие оппонента в прошлой игре. "
      ],
      "metadata": {
        "id": "l0L2ANPXEAY8"
      }
    },
    {
      "cell_type": "code",
      "source": [
        "%%writefile thirteen_agent.py\n",
        "\n",
        "# Действия игроков в прошлых играх\n",
        "last_games = []\n",
        "\n",
        "def thirteen_agent(observation, configuration):\n",
        "    global last_games\n",
        "\n",
        "    # Определение исхода игры\n",
        "    def get_result(last_my_action, last_opponent_action):\n",
        "        if last_my_action == last_opponent_action:\n",
        "            return 0\n",
        "        elif (last_my_action == 1 and last_opponent_action == 0) \\\n",
        "            or (last_my_action == 0 and last_opponent_action == 1) \\\n",
        "            or (last_my_action == 2 and last_opponent_action == 1):\n",
        "            return 1\n",
        "        else:\n",
        "            return -1  \n",
        "\n",
        "    if observation.step == 0:\n",
        "    # Первый шаг - камень\n",
        "        agent = 0\n",
        "        last_games.append({'agent' : agent, 'opponent' : None})\n",
        "        return agent\n",
        "    else:\n",
        "        last_games[-1]['opponent'] = observation.lastOpponentAction\n",
        "        result = get_result(last_games[-1]['agent'], last_games[-1]['opponent']) \n",
        "        \n",
        "        if result == 1: \n",
        "            agent = [action for action in [0, 1, 2] if action != last_games[-1]['agent'] and action != last_games[-1]['opponent']] \n",
        "            last_games.append({'agent' : agent[0], 'opponent': None})\n",
        "        else: \n",
        "            agent = last_games[-1]['opponent'] \n",
        "            last_games.append({'agent' : agent, 'opponent': None})\n",
        "        return last_games[-2]['agent']\n",
        "            "
      ],
      "metadata": {
        "colab": {
          "base_uri": "https://localhost:8080/"
        },
        "id": "z5g7_g06hpVm",
        "outputId": "8095d127-12c5-4ea5-bdd9-9656731fca37"
      },
      "execution_count": 15,
      "outputs": [
        {
          "output_type": "stream",
          "name": "stdout",
          "text": [
            "Writing thirteen_agent.py\n"
          ]
        }
      ]
    },
    {
      "cell_type": "markdown",
      "source": [
        "Воспользуемся функцией evaluate из библиотеки kaggle_environments с помощью которой запустим наших агентов и проведем эксперимент на заданном количестве игр"
      ],
      "metadata": {
        "id": "u6f1kvulgo2P"
      }
    },
    {
      "cell_type": "code",
      "source": [
        "evaluate(\n",
        "    \"rps\", \n",
        "    [\"last_agent.py\", \"thirteen_agent.py\"], # Агенты, которые будут играть\n",
        "    configuration={\"episodeSteps\": 100} # Количество игр \n",
        ")"
      ],
      "metadata": {
        "colab": {
          "base_uri": "https://localhost:8080/"
        },
        "id": "gg5nM4iJgamC",
        "outputId": "6f31efc1-20a4-46eb-9e16-c16927687f5f"
      },
      "execution_count": 30,
      "outputs": [
        {
          "output_type": "execute_result",
          "data": {
            "text/plain": [
              "[[-21.0, 21.0]]"
            ]
          },
          "metadata": {},
          "execution_count": 30
        }
      ]
    }
  ]
}