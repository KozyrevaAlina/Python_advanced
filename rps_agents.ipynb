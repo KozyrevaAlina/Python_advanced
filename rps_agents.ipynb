{
  "cells": [
    {
      "cell_type": "code",
      "execution_count": 247,
      "metadata": {
        "colab": {
          "base_uri": "https://localhost:8080/"
        },
        "id": "5jHQMXhOgXh6",
        "outputId": "5cef5b6b-d34e-4926-e190-7fb5c135335a"
      },
      "outputs": [],
      "source": [
        "!pip install -q -U kaggle_environments"
      ]
    },
    {
      "cell_type": "code",
      "execution_count": 248,
      "metadata": {
        "id": "Et2VRrimgaw4"
      },
      "outputs": [],
      "source": [
        "import numpy as np\n",
        "import pandas as pd\n",
        "import random\n",
        "\n",
        "import matplotlib.pyplot as plt\n",
        "import seaborn as sns\n",
        "\n",
        "from kaggle_environments import make, evaluate"
      ]
    },
    {
      "cell_type": "markdown",
      "metadata": {
        "id": "d5kba2WEhctQ"
      },
      "source": [
        "Агент всегда играет камень."
      ]
    },
    {
      "cell_type": "code",
      "execution_count": 249,
      "metadata": {
        "colab": {
          "base_uri": "https://localhost:8080/"
        },
        "id": "yES_MQBFgauB",
        "outputId": "54a57d58-f440-4483-d1df-4eb6990df0fb"
      },
      "outputs": [
        {
          "name": "stdout",
          "output_type": "stream",
          "text": [
            "Overwriting rock_agent.py\n"
          ]
        }
      ],
      "source": [
        "%%writefile rock_agent.py\n",
        "\n",
        "def rock_agent(observation, configuration):\n",
        "    return 0"
      ]
    },
    {
      "cell_type": "markdown",
      "metadata": {
        "id": "9bjPKLKPFhVz"
      },
      "source": [
        "Агент всегда играет бумага."
      ]
    },
    {
      "cell_type": "code",
      "execution_count": 250,
      "metadata": {
        "colab": {
          "base_uri": "https://localhost:8080/"
        },
        "id": "9zlHnYXmgarr",
        "outputId": "62f83ef6-c71f-445c-d242-a428b280de9a"
      },
      "outputs": [
        {
          "name": "stdout",
          "output_type": "stream",
          "text": [
            "Overwriting paper_agent.py\n"
          ]
        }
      ],
      "source": [
        "%%writefile paper_agent.py\n",
        "\n",
        "def paper_agent(observation, configuration):\n",
        "    return 1\n"
      ]
    },
    {
      "cell_type": "markdown",
      "metadata": {
        "id": "ZdVeznPKhqyH"
      },
      "source": [
        "Агент всегда играет ножницы."
      ]
    },
    {
      "cell_type": "code",
      "execution_count": 251,
      "metadata": {
        "colab": {
          "base_uri": "https://localhost:8080/"
        },
        "id": "o1DsdTDEhptN",
        "outputId": "75a13b58-8524-41cd-ddf9-912e82ce4455"
      },
      "outputs": [
        {
          "name": "stdout",
          "output_type": "stream",
          "text": [
            "Overwriting scissors_agent.py\n"
          ]
        }
      ],
      "source": [
        "%%writefile scissors_agent.py\n",
        "\n",
        "def scissors_agent(observation, configuration):\n",
        "    return 2"
      ]
    },
    {
      "cell_type": "markdown",
      "metadata": {
        "id": "BJ9PcavdhzCs"
      },
      "source": [
        "Агент повторяет прошлые действия оппонента. "
      ]
    },
    {
      "cell_type": "code",
      "execution_count": 252,
      "metadata": {
        "colab": {
          "base_uri": "https://localhost:8080/"
        },
        "id": "ZqquOO8Qhpqu",
        "outputId": "0a2b0b31-4da4-4418-e915-e15f87a66ba6"
      },
      "outputs": [
        {
          "name": "stdout",
          "output_type": "stream",
          "text": [
            "Overwriting copy_agent.py\n"
          ]
        }
      ],
      "source": [
        "%%writefile copy_agent.py\n",
        "\n",
        "import random\n",
        "def copy_agent(observation, configuration):\n",
        "    # Получает прошлое действие оппонента\n",
        "    if observation.step > 0:\n",
        "        return observation.lastOpponentAction\n",
        "    # Первый шаг оппонента - случайное значение\n",
        "    else:\n",
        "        return random.randrange(0, configuration.signs)"
      ]
    },
    {
      "cell_type": "markdown",
      "metadata": {
        "id": "91MuCbDnh5R8"
      },
      "source": [
        "Агент возвращает действие, которое победит самое популярное из прошлых действий оппонента. "
      ]
    },
    {
      "cell_type": "code",
      "execution_count": 253,
      "metadata": {
        "colab": {
          "base_uri": "https://localhost:8080/"
        },
        "id": "T0Y2lDZyhpn8",
        "outputId": "773a2376-9966-4067-8fba-e08de7c33f5f"
      },
      "outputs": [
        {
          "name": "stdout",
          "output_type": "stream",
          "text": [
            "Overwriting popular_agent.py\n"
          ]
        }
      ],
      "source": [
        "%%writefile popular_agent.py\n",
        "\n",
        "import random\n",
        "# Прошлые действия оппоннета\n",
        "opponent_actions = []\n",
        "\n",
        "def popular_agent(observation, configuration):\n",
        "    global opponent_actions\n",
        "    \n",
        "    count = len(opponent_actions)\n",
        "    \n",
        "    # Первый шаг оппонента - случайное значение\n",
        "    if count == 0:\n",
        "        opponent_actions.append(random.randrange(0, configuration.signs)) \n",
        "    # Находим самое используемое действие опонента из прошлых\n",
        "    else:\n",
        "        opponent_actions.append(observation.lastOpponentAction)\n",
        "        action_count = [opponent_actions.count(0), opponent_actions.count(1), opponent_actions.count(2)]        \n",
        "        popular_opponent_action = action_count.index(max(action_count))\n",
        "\n",
        "        if popular_opponent_action == 0: \n",
        "            return 1\n",
        "        elif popular_opponent_action == 1:\n",
        "            return 2\n",
        "        else:\n",
        "            return 0"
      ]
    },
    {
      "cell_type": "markdown",
      "metadata": {
        "id": "LpVRxj1UiAs5"
      },
      "source": [
        "Агент при победе в прошлой игре возвращает прошлое действие, при проигрыше или игре в ничью меняет действие на случайное, за исключением невыигрышного действия."
      ]
    },
    {
      "cell_type": "code",
      "execution_count": 254,
      "metadata": {
        "colab": {
          "base_uri": "https://localhost:8080/"
        },
        "id": "SJrvfqw_hplS",
        "outputId": "c56b87ad-3797-40cc-f711-a47db4621efe"
      },
      "outputs": [
        {
          "name": "stdout",
          "output_type": "stream",
          "text": [
            "Overwriting last_agent.py\n"
          ]
        }
      ],
      "source": [
        "%%writefile last_agent.py\n",
        "\n",
        "import random\n",
        "last_my_action = None\n",
        "\n",
        "def last_agent(observation, configuration):\n",
        "    global last_my_action\n",
        "\n",
        "    # Определение исхода игры\n",
        "    def get_result(last_my_action, last_opponent_action):\n",
        "        if last_my_action == last_opponent_action:\n",
        "            return 0\n",
        "        elif (last_my_action == 1 and last_opponent_action == 0) \\\n",
        "            or (last_my_action == 0 and last_opponent_action == 1) \\\n",
        "            or (last_my_action == 2 and last_opponent_action == 1):\n",
        "            return 1\n",
        "        else:\n",
        "            return -1    \n",
        "\n",
        "    if observation.step == 0:\n",
        "    # Первый шаг - камень\n",
        "        last_opponent_action = 0 \n",
        "        last_my_action = 0\n",
        "    else:\n",
        "        last_opponent_action = observation.lastOpponentAction\n",
        "    result = get_result(last_my_action, last_opponent_action)\n",
        "\n",
        "    if result != 1: \n",
        "        # Если в прошлой игре не было победы, меняем действие на случайное, за исключением невыигрышного действия\n",
        "        list_of_action = [action for action in [0, 1, 2] if action != last_my_action] \n",
        "        last_my_action = random.choice(list_of_action)       \n",
        "    return last_my_action\n",
        "    "
      ]
    },
    {
      "cell_type": "markdown",
      "metadata": {
        "id": "kpFRM2eoiMjB"
      },
      "source": [
        "Агент возвращает случайное значение. "
      ]
    },
    {
      "cell_type": "code",
      "execution_count": 255,
      "metadata": {
        "colab": {
          "base_uri": "https://localhost:8080/"
        },
        "id": "vSMOYviIhpiV",
        "outputId": "52f4765b-ae4d-4237-cbc4-841516f8c1bc"
      },
      "outputs": [
        {
          "name": "stdout",
          "output_type": "stream",
          "text": [
            "Overwriting random_agent.py\n"
          ]
        }
      ],
      "source": [
        "%%writefile random_agent.py\n",
        "\n",
        "import random\n",
        "\n",
        "def random_agent(observation, configuration):\n",
        "    return random.randint(0, 2)"
      ]
    },
    {
      "cell_type": "markdown",
      "metadata": {
        "id": "eaAzh3g9iRm8"
      },
      "source": [
        "Агент, который возвращает свои предыдущие шаги cо сдвигом."
      ]
    },
    {
      "cell_type": "code",
      "execution_count": 256,
      "metadata": {
        "colab": {
          "base_uri": "https://localhost:8080/"
        },
        "id": "5C4OW9VbhpfQ",
        "outputId": "6c75fe2b-0be2-4bfa-9a2d-24f9d305d396"
      },
      "outputs": [
        {
          "name": "stdout",
          "output_type": "stream",
          "text": [
            "Overwriting my_previous_agent.py\n"
          ]
        }
      ],
      "source": [
        "%%writefile my_previous_agent.py\n",
        "\n",
        "# Действие прошлых игр\n",
        "last_games = []\n",
        "\n",
        "def my_previous_agent(observation, configuration):\n",
        "    global last_games\n",
        "\n",
        "    if observation.step == 0:\n",
        "    # Первый шаг - камень\n",
        "        agent = 0\n",
        "        last_games.append(agent)\n",
        "    else:\n",
        "        agent = (last_games[-1] + 1) % 3 \n",
        "        last_games.append(agent)\n",
        "    return agent"
      ]
    },
    {
      "cell_type": "markdown",
      "metadata": {
        "id": "CmVpIIApiXnX"
      },
      "source": [
        "Абонент, который возвращает предыдущие шаги оппонента cо сдвигом"
      ]
    },
    {
      "cell_type": "code",
      "execution_count": 257,
      "metadata": {
        "colab": {
          "base_uri": "https://localhost:8080/"
        },
        "id": "5M8SEU6GiXVG",
        "outputId": "b6c8d17c-8df1-43cf-cd39-ec0a51c2beb1"
      },
      "outputs": [
        {
          "name": "stdout",
          "output_type": "stream",
          "text": [
            "Overwriting opponent_previous_agent.py\n"
          ]
        }
      ],
      "source": [
        "%%writefile opponent_previous_agent.py\n",
        "\n",
        "\n",
        "# Действие оппонента в прошлых играх\n",
        "last_games = []\n",
        "\n",
        "def opponent_previous_agent(observation, configuration):\n",
        "    global last_games\n",
        "\n",
        "    if observation.step == 0:\n",
        "    # Первый шаг оппонента - камень    \n",
        "        opponent_action = 0\n",
        "        last_games.append(opponent_action)\n",
        "    else:\n",
        "        last_games[-1] = observation.lastOpponentAction\n",
        "        opponent_action = (last_games[-1] + 1) % 3\n",
        "        last_games.append(opponent_action)\n",
        "    return opponent_action"
      ]
    },
    {
      "cell_type": "markdown",
      "metadata": {
        "id": "W4rekMDeDocO"
      },
      "source": [
        "Абонент возвращает камень, если шаг четный, случайное значение среди ножниц и бумаги - если шаг нечетный."
      ]
    },
    {
      "cell_type": "code",
      "execution_count": 258,
      "metadata": {
        "colab": {
          "base_uri": "https://localhost:8080/"
        },
        "id": "F72AR3U_iXSg",
        "outputId": "7b59eb9b-3de7-41b2-8a10-4ecbcc53fd3d"
      },
      "outputs": [
        {
          "name": "stdout",
          "output_type": "stream",
          "text": [
            "Overwriting even_agent.py\n"
          ]
        }
      ],
      "source": [
        "%%writefile even_agent.py\n",
        "\n",
        "import random\n",
        "def even_agent(observation, configuration):  \n",
        "    if observation.step % 2 == 0:\n",
        "        return 0\n",
        "    else:\n",
        "        return random.choice([1, 2])"
      ]
    },
    {
      "cell_type": "markdown",
      "metadata": {
        "id": "MmQG1O_qDu5-"
      },
      "source": [
        "Агент возвращает действие, которое победит самое популярное из прошлых действий оппонента, если вероятность выпадания самого популярного действия оппонета больше 20%. \n",
        "В противном случае агент возвращает самое популярное из прошлых действий оппонента."
      ]
    },
    {
      "cell_type": "code",
      "execution_count": 259,
      "metadata": {
        "colab": {
          "base_uri": "https://localhost:8080/"
        },
        "id": "sebciwSZiXPW",
        "outputId": "e87d7a08-e5fc-4aa9-b63c-6243f86999d8"
      },
      "outputs": [
        {
          "name": "stdout",
          "output_type": "stream",
          "text": [
            "Overwriting probability_agent.py\n"
          ]
        }
      ],
      "source": [
        "%%writefile probability_agent.py\n",
        "\n",
        "import random\n",
        "\n",
        "# Прошлые действия оппонента\n",
        "opponent_actions = []\n",
        "\n",
        "def probability_agent(observation, configuration):\n",
        "    global opponent_actions\n",
        "    \n",
        "    count = len(opponent_actions) # Количество прошлых действий \n",
        "    \n",
        "    # Первый шаг оппонента - случайное значение.\n",
        "    if count == 0:\n",
        "        opponent_actions.append(random.randrange(0, configuration.signs)) \n",
        "    # Находим самое используемое действие опонента из прошлых.\n",
        "    else:\n",
        "        opponent_actions.append(observation.lastOpponentAction)\n",
        "        action_count = [opponent_actions.count(0), opponent_actions.count(1), opponent_actions.count(2)]        \n",
        "        popular_opponent_action = action_count.index(max(action_count))\n",
        "        # Вероятность выпадания популярного действия. \n",
        "        probability = popular_opponent_action / count \n",
        "\n",
        "        if probability > 20:\n",
        "            if popular_opponent_action == 0: \n",
        "                return 1\n",
        "            elif popular_opponent_action == 1:\n",
        "                return 2\n",
        "            else:\n",
        "                return 0\n",
        "        else:\n",
        "            return popular_opponent_action"
      ]
    },
    {
      "cell_type": "markdown",
      "metadata": {
        "id": "bgHUl-VID5_E"
      },
      "source": [
        "Агент возвращает следующее по отношению к действиям оппонента действие. Порядок действий задан следующим образом: камень, бумага, ножницы."
      ]
    },
    {
      "cell_type": "code",
      "execution_count": 260,
      "metadata": {
        "colab": {
          "base_uri": "https://localhost:8080/"
        },
        "id": "1Gt2Q-3ziXLv",
        "outputId": "c32aa77f-b15d-4f23-adf1-bc9624155b82"
      },
      "outputs": [
        {
          "name": "stdout",
          "output_type": "stream",
          "text": [
            "Overwriting ordered_agent.py\n"
          ]
        }
      ],
      "source": [
        "%%writefile ordered_agent.py\n",
        "\n",
        "import random\n",
        "\n",
        "def ordered_agent(observation, configuration):\n",
        "    if observation.step > 0:\n",
        "        if observation.lastOpponentAction == 0:\n",
        "            return 1\n",
        "        elif observation.lastOpponentAction == 1:\n",
        "            return 2\n",
        "        else:\n",
        "            return 0\n",
        "    else:\n",
        "        # Первый шаг - случайное действие\n",
        "        return random.randrange(0, configuration.signs)"
      ]
    },
    {
      "cell_type": "markdown",
      "metadata": {
        "id": "l0L2ANPXEAY8"
      },
      "source": [
        "Агент при победе возвращает действие, которое не играло в прошлой игре, при проигрыше или игре в ничью - действие оппонента в прошлой игре. "
      ]
    },
    {
      "cell_type": "code",
      "execution_count": 261,
      "metadata": {
        "colab": {
          "base_uri": "https://localhost:8080/"
        },
        "id": "z5g7_g06hpVm",
        "outputId": "8095d127-12c5-4ea5-bdd9-9656731fca37"
      },
      "outputs": [
        {
          "name": "stdout",
          "output_type": "stream",
          "text": [
            "Overwriting thirteen_agent.py\n"
          ]
        }
      ],
      "source": [
        "%%writefile thirteen_agent.py\n",
        "\n",
        "# Действия игроков в прошлых играх\n",
        "last_games = []\n",
        "\n",
        "def thirteen_agent(observation, configuration):\n",
        "    global last_games\n",
        "\n",
        "    # Определение исхода игры\n",
        "    def get_result(last_my_action, last_opponent_action):\n",
        "        if last_my_action == last_opponent_action:\n",
        "            return 0\n",
        "        elif (last_my_action == 1 and last_opponent_action == 0) \\\n",
        "            or (last_my_action == 0 and last_opponent_action == 1) \\\n",
        "            or (last_my_action == 2 and last_opponent_action == 1):\n",
        "            return 1\n",
        "        else:\n",
        "            return -1  \n",
        "\n",
        "    if observation.step == 0:\n",
        "    # Первый шаг - камень\n",
        "        agent = 0\n",
        "        last_games.append({'agent' : agent, 'opponent' : None})\n",
        "        return agent\n",
        "    else:\n",
        "        last_games[-1]['opponent'] = observation.lastOpponentAction\n",
        "        result = get_result(last_games[-1]['agent'], last_games[-1]['opponent']) \n",
        "        \n",
        "        if result == 1: \n",
        "            agent = [action for action in [0, 1, 2] if action != last_games[-1]['agent'] and action != last_games[-1]['opponent']] \n",
        "            last_games.append({'agent' : agent[0], 'opponent': None})\n",
        "        else: \n",
        "            agent = last_games[-1]['opponent'] \n",
        "            last_games.append({'agent' : agent, 'opponent': None})\n",
        "        return last_games[-2]['agent']\n",
        "            "
      ]
    },
    {
      "cell_type": "markdown",
      "metadata": {},
      "source": [
        "Составим турнирную таблицу, отображающую количество побед, проигрышей и игр в ничью агентов.\n",
        "Для формирования турнирной таблицы воспользуемся функцией evaluate из библиотеки kaggle_environments с помощью которой запустим наших агентов и проведем эксперимент на заданном количестве игр"
      ]
    },
    {
      "cell_type": "markdown",
      "metadata": {},
      "source": [
        "Подготовим списки агентов для игр, выходной словарь с результатами игр и функцию определения результатов игр."
      ]
    },
    {
      "cell_type": "code",
      "execution_count": 262,
      "metadata": {},
      "outputs": [],
      "source": [
        "# Cписок всех агентов\n",
        "agents = [\n",
        "    \"rock_agent\",\n",
        "    \"paper_agent\", \n",
        "    \"scissors_agent\",\n",
        "    \"copy_agent\",\n",
        "    \"popular_agent\", \n",
        "    \"last_agent\",\n",
        "    \"random_agent\", \n",
        "    \"my_previous_agent\",\n",
        "    \"opponent_previous_agent\",\n",
        "    \"even_agent\", \n",
        "    \"probability_agent\",\n",
        "    \"ordered_agent\",\n",
        "    \"thirteen_agent\"\n",
        "    ]\n",
        " \n",
        "list_agents = [agent_name + \".py\" for agent_name in agents]\n",
        "\n",
        "\n",
        "# Словарь с результатами игр по каждому агенту\n",
        "output = {}\n",
        "for agent in list_agents:\n",
        "    output[agent] = {\n",
        "        'win'  : 0,\n",
        "        'loss' : 0,\n",
        "        'tie'  : 0\n",
        "    }\n",
        "\n",
        "# Функция определение результата игры\n",
        "def get_result(agent1, agent2):\n",
        "    output = evaluate(\n",
        "                \"rps\", \n",
        "                [agent1, agent2], \n",
        "                configuration={\"episodeSteps\": 100})\n",
        "    return agent1, agent2, output[0]"
      ]
    },
    {
      "cell_type": "markdown",
      "metadata": {},
      "source": [
        "Проведем турнир между агентами, считая, что агент не может играть с таким же агентом как и он. "
      ]
    },
    {
      "cell_type": "code",
      "execution_count": 263,
      "metadata": {},
      "outputs": [],
      "source": [
        "results = []\n",
        "for i in range(len(list_agents)):\n",
        "    for j in range(len(list_agents)):\n",
        "        if i != j:\n",
        "            results.append(get_result(list_agents[i], list_agents[j]))"
      ]
    },
    {
      "cell_type": "markdown",
      "metadata": {},
      "source": [
        "Подсчитаем количество побед, проигрышей и игр в ничью по каждому агенту."
      ]
    },
    {
      "cell_type": "code",
      "execution_count": 264,
      "metadata": {},
      "outputs": [],
      "source": [
        "for result in results:\n",
        "    if abs(result[2][0]) < 20:\n",
        "        output[result[0]]['tie']  += 1\n",
        "        output[result[1]]['tie']  += 1\n",
        "    elif result[2][0] >= 20:\n",
        "        output[result[0]]['win']  += 1\n",
        "        output[result[1]]['loss'] += 1\n",
        "    elif result[2][0] <= -20:\n",
        "        output[result[0]]['loss'] += 1\n",
        "        output[result[1]]['win']  += 1\n",
        "\n",
        "# Сортировка словаря с результатами игр по количеству побед\n",
        "sorted_output = dict(sorted(output.items(), key=lambda x: x[1].get('win'), reverse=True))"
      ]
    },
    {
      "cell_type": "markdown",
      "metadata": {},
      "source": [
        "Выведем полученные результаты в виде таблицы."
      ]
    },
    {
      "cell_type": "code",
      "execution_count": 265,
      "metadata": {},
      "outputs": [
        {
          "name": "stdout",
          "output_type": "stream",
          "text": [
            "Name agent                 Win    Loss   Tie\n",
            "popular_agent.py           12     6      6\n",
            "opponent_previous_agent.py 12     4      8\n",
            "ordered_agent.py           11     5      8\n",
            "thirteen_agent.py          9      0      15\n",
            "even_agent.py              8      6      10\n",
            "my_previous_agent.py       6      3      15\n",
            "last_agent.py              5      3      16\n",
            "paper_agent.py             4      10     10\n",
            "rock_agent.py              2      10     12\n",
            "scissors_agent.py          2      10     12\n",
            "copy_agent.py              1      7      16\n",
            "random_agent.py            0      0      24\n",
            "probability_agent.py       0      8      16\n"
          ]
        }
      ],
      "source": [
        "# определим отступы для вывода\n",
        "shift = max([len(name_agent) for name_agent in list_agents])\n",
        "little_shift = 6\n",
        "\n",
        "# заголовок для удобства\n",
        "print('Name agent'.ljust(shift), 'Win'.ljust(little_shift), 'Loss'.ljust(little_shift), 'Tie')\n",
        "\n",
        "# вывод турнирной таблицы, отсортированной по количеству побед\n",
        "for key, value in sorted_output.items():\n",
        "    print(key.ljust(shift), str(value['win']).ljust(little_shift), str(value['loss']).ljust(little_shift), value['tie'])"
      ]
    }
  ],
  "metadata": {
    "colab": {
      "authorship_tag": "ABX9TyO9eX2let1/Kx0dGBpgwTpo",
      "collapsed_sections": [],
      "provenance": []
    },
    "kernelspec": {
      "display_name": "Python 3",
      "name": "python3"
    },
    "language_info": {
      "codemirror_mode": {
        "name": "ipython",
        "version": 3
      },
      "file_extension": ".py",
      "mimetype": "text/x-python",
      "name": "python",
      "nbconvert_exporter": "python",
      "pygments_lexer": "ipython3",
      "version": "3.10.0"
    }
  },
  "nbformat": 4,
  "nbformat_minor": 0
}
